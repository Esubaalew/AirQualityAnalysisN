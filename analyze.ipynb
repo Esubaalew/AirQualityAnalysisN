{
 "cells": [
  {
   "cell_type": "markdown",
   "metadata": {},
   "source": [
    "# tools.ipynb\n",
    "This module contains tools that are used in whole work."
   ]
  },
  {
   "cell_type": "code",
   "execution_count": null,
   "metadata": {},
   "outputs": [],
   "source": [
    "import pandas as pd\n",
    "\n",
    "def get_data(file:str = \"Air_Quality.csv\"):\n",
    "    '''This function reads the data from the csv file and returns it as a pandas dataframe.'''\n",
    "    data = pd.read_csv(file)\n",
    "    return data\n",
    "\n",
    "def get_clean_data(file:str = \"Air_Quality.csv\"):\n",
    "    '''This function reads the data from get_data function, cleans it, and returns it as a pandas dataframe.'''\n",
    "    data = get_data(file)\n",
    "    clean_data = data.drop(columns=['Message'])\n",
    "    clean_data = clean_data.dropna(subset=['Geo Join ID', 'Geo Place Name'])\n",
    "    clean_data['Start_Date'] = pd.to_datetime(clean_data['Start_Date'])\n",
    "\n",
    "    return clean_data"
   ]
  },
  {
   "cell_type": "code",
   "execution_count": null,
   "metadata": {},
   "outputs": [],
   "source": [
    "data = get_clean_data('Air_Quality.csv')\n",
    "path = 'Air_Quality.csv'"
   ]
  },
  {
   "cell_type": "code",
   "execution_count": null,
   "metadata": {},
   "outputs": [],
   "source": [
    "import sys\n",
    "import matplotlib.pyplot as plt\n",
    "import seaborn as sns\n",
    "\n",
    "\n",
    "def get_top_pollutants(data, top_n=10):\n",
    "    \"\"\"\n",
    "    Get the top N most common air pollutants from the given dataset.\n",
    "\n",
    "    Parameters:\n",
    "    data (DataFrame): The input DataFrame containing air pollutant data.\n",
    "    top_n (int): The number of top pollutants to return. Default is 10.\n",
    "\n",
    "    Returns:\n",
    "    DataFrame: A DataFrame containing the top N most common air pollutants.\n",
    "    \"\"\"\n",
    "    pollutant_counts = data.groupby('Name').size().reset_index(name='Count')\n",
    "    most_common_pollutants = pollutant_counts.sort_values(by='Count', ascending=False)\n",
    "    return most_common_pollutants.head(top_n)"
   ]
  },
  {
   "cell_type": "code",
   "execution_count": null,
   "metadata": {},
   "outputs": [],
   "source": [
    "get_top_pollutants(data=data)"
   ]
  },
  {
   "cell_type": "code",
   "execution_count": null,
   "metadata": {},
   "outputs": [],
   "source": [
    "def plot_top_pollutants(data_path, top_n=10):\n",
    "    \"\"\"\n",
    "    Plot the top N most common air pollutants from the given dataset.\n",
    "\n",
    "    Parameters:\n",
    "    data_path (str): The file path to the input CSV file containing air pollutant data.\n",
    "    top_n (int): The number of top pollutants to display in the plot. Default is 10.\n",
    "    \"\"\"\n",
    "\n",
    "    data = get_clean_data(data_path)\n",
    "    \n",
    "\n",
    "    most_common_pollutants = get_top_pollutants(data, top_n=top_n)\n",
    "\n",
    "    most_common_pollutants['ShortName'] = most_common_pollutants['Name'].apply(lambda x: x[:15] + '...' if len(x) > 15 else x)\n",
    "    \n",
    "\n",
    "    labels = most_common_pollutants['ShortName'] + ' (' + most_common_pollutants['Name'] + ')'\n",
    "    \n",
    "\n",
    "    plt.figure(figsize=(10, 6))\n",
    "    plt.pie(most_common_pollutants['Count'], labels=labels, autopct='%1.1f%%', colors=plt.cm.Paired(range(len(labels))))\n",
    "    plt.title(f'Top {top_n} Most Common Air Pollutants')\n",
    "    plt.show()\n",
    "\n"
   ]
  },
  {
   "cell_type": "code",
   "execution_count": null,
   "metadata": {},
   "outputs": [],
   "source": [
    "plot_top_pollutants(path)"
   ]
  }
 ],
 "metadata": {
  "kernelspec": {
   "display_name": "Python 3",
   "language": "python",
   "name": "python3"
  },
  "language_info": {
   "codemirror_mode": {
    "name": "ipython",
    "version": 3
   },
   "file_extension": ".py",
   "mimetype": "text/x-python",
   "name": "python",
   "nbconvert_exporter": "python",
   "pygments_lexer": "ipython3",
   "version": "3.12.3"
  }
 },
 "nbformat": 4,
 "nbformat_minor": 2
}
